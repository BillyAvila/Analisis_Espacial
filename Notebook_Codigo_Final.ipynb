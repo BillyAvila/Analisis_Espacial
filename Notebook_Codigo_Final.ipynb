{
 "cells": [
  {
   "cell_type": "markdown",
   "id": "34abc43b-270a-4f52-b08c-756fb45aabe9",
   "metadata": {},
   "source": [
    "**Análisis espacial de los usuarios asignados a la Subred Sur de Salud en Bogotá mediante técnicas de programación**\n"
   ]
  },
  {
   "cell_type": "markdown",
   "id": "bc1d0e4f-d4a3-4d24-b0c7-9b2de712dd9b",
   "metadata": {},
   "source": [
    "En el siguiente código, usted encontrará los pasos para realizar un análisis espacial a partir de datos alfanuméricos, se tomará como ejemplo, los datos de los usuarios asignados a la Subred Integral de Servicios de Salud Sur para el mes de enero del año 2025 de la ciudad de Bogotá donde se harán operaciones espaciales entre archivos vector y ráster.\n"
   ]
  },
  {
   "cell_type": "code",
   "execution_count": null,
   "id": "3bcab567-8d80-41fd-95f6-1df3ad5eeab5",
   "metadata": {},
   "outputs": [],
   "source": []
  }
 ],
 "metadata": {
  "kernelspec": {
   "display_name": "Python 3 (ipykernel)",
   "language": "python",
   "name": "python3"
  },
  "language_info": {
   "codemirror_mode": {
    "name": "ipython",
    "version": 3
   },
   "file_extension": ".py",
   "mimetype": "text/x-python",
   "name": "python",
   "nbconvert_exporter": "python",
   "pygments_lexer": "ipython3",
   "version": "3.12.7"
  }
 },
 "nbformat": 4,
 "nbformat_minor": 5
}
