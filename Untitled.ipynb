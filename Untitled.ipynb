{
 "cells": [
  {
   "cell_type": "markdown",
   "id": "34abc43b-270a-4f52-b08c-756fb45aabe9",
   "metadata": {},
   "source": [
    "**Análisis espacial de los usuarios asignados a la Subred Sur de Salud en Bogotá mediante técnicas de programación**\n"
   ]
  },
  {
   "cell_type": "code",
   "execution_count": null,
   "id": "9785c164-5c69-4c6a-8329-1c8861910776",
   "metadata": {},
   "outputs": [],
   "source": [
    "En el siguiente código "
   ]
  }
 ],
 "metadata": {
  "kernelspec": {
   "display_name": "Python 3 (ipykernel)",
   "language": "python",
   "name": "python3"
  },
  "language_info": {
   "codemirror_mode": {
    "name": "ipython",
    "version": 3
   },
   "file_extension": ".py",
   "mimetype": "text/x-python",
   "name": "python",
   "nbconvert_exporter": "python",
   "pygments_lexer": "ipython3",
   "version": "3.12.7"
  }
 },
 "nbformat": 4,
 "nbformat_minor": 5
}
