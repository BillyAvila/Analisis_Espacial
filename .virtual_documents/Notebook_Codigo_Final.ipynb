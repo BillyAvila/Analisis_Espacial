








import geopandas as gpd
import pandas as pd
import rasterio
import matplotlib.pyplot as plt
from shapely.geometry import Point









ruta_usuarios_subred_sur = r'C:\MAESTRIA_EN_GEOMATICA\Programacion_SIG\PROYECTO_FINAL_CODIGO\Analisis_Espacial\usuarios_asignados_subred_sur_enero_2025.csv'

# Cargar el archivo con los datos
usuarios_subred_sur = pd.read_csv(ruta_usuarios_subred_sur, sep=";")

# Ver las 5 primeras filas
print(usuarios_df.head())








ruta_usuarios_subred_sur = r'C:\MAESTRIA_EN_GEOMATICA\Programacion_SIG\PROYECTO_FINAL_CODIGO\Analisis_Espacial\usuarios_asignados_subred_sur_enero_2025.csv'

# Cargar el archivo, especificando el separador y reemplazando comas por puntos en las coordenadas
usuarios_subred_sur = pd.read_csv(ruta_usuarios_subred_sur, sep=";", decimal=",")

# Convertir las coordenadas a tipo numérico
usuarios_subred_sur["X"] = usuarios_df["X"].astype(float)
usuarios_subred_sur["Y"] = usuarios_df["Y"].astype(float)

# Ver las primeras filas
print(usuarios_df.head())





# Convertir el DataFrame en un GeoDataFrame
usuarios_subred_sur_geo = gpd.GeoDataFrame(
    usuarios_subred_sur,
    geometry=gpd.points_from_xy(usuarios_subred_sur["X"], usuarios_subred_sur["Y"]),
    crs="EPSG:4326"  
)

# Mostrar las primeras filas con la nueva columna de geometría
print(usuarios_subred_sur_geo.head())






# Cargar la capa poligonal de las localidades de Bogotá
ruta_localidades = "C:/MAESTRIA_EN_GEOMATICA/Programacion_SIG/PROYECTO_FINAL_CODIGO/Analisis_Espacial/Localidades/Loca.shp"
localidades_bogota = gpd.read_file(ruta_localidades)

# Convertir a una proyección adecuada
localidades_bogota = localidades_bogota.to_crs(epsg=4326)  

# Crear la figura y los ejes
fig, ax = plt.subplots(figsize=(10, 8))

# Graficar localidades de Bogotá
localidades_bogota.plot(ax=ax, edgecolor='black', facecolor='lightgray', linewidth=1)

# Personalizar el gráfico
ax.set_title("Localidades de Bogotá", fontsize=14)
ax.set_xlabel("Longitud")
ax.set_ylabel("Latitud")
ax.grid(True, linestyle="--", alpha=0.5)  # Agregar cuadrícula para referencia

# Mostrar el mapa
plt.show()





# Realizar la unión espacial entre los puntos de los usuarios y las localidades de Bogotá
usuarios_localidades = gpd.sjoin(usuarios_subred_sur_geo, localidades_bogota, how="inner", predicate="within")

# Ver las primeras filas del resultado para comprobar la unión
print(usuarios_localidades.head())

# Crear la figura y los ejes para el gráfico
fig, ax = plt.subplots(figsize=(10, 8))

# Graficar localidades de Bogotá
localidades_bogota.plot(ax=ax, edgecolor='black', facecolor='lightgray', linewidth=1)

# Graficar los puntos de usuarios dentro de las localidades (usuarios_localidades)
usuarios_localidades.plot(ax=ax, color='red', markersize=5)

# Personalizar el gráfico
ax.set_title("Usuarios en las Localidades de Bogotá", fontsize=14)
ax.set_xlabel("Longitud")
ax.set_ylabel("Latitud")
ax.grid(True, linestyle="--", alpha=0.5)

# Mostrar el mapa
plt.show()



