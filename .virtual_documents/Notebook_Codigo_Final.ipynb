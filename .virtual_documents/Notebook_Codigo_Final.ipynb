








import geopandas as gpd
import pandas as pd
import rasterio
import matplotlib.pyplot as plt
from shapely.geometry import Point









ruta_usuarios_subred_sur = r'C:\MAESTRIA_EN_GEOMATICA\Programacion_SIG\PROYECTO_FINAL_CODIGO\Analisis_Espacial\usuarios_asignados_subred_sur_enero_2025.csv'

# Cargar el archivo con los datos
usuarios_subred_sur = pd.read_csv(ruta_usuarios_subred_sur, sep=";")

# Ver las 5 primeras filas
print(usuarios_df.head())








ruta_usuarios_subred_sur = r'C:\MAESTRIA_EN_GEOMATICA\Programacion_SIG\PROYECTO_FINAL_CODIGO\Analisis_Espacial\usuarios_asignados_subred_sur_enero_2025.csv'

# Cargar el archivo, especificando el separador y reemplazando comas por puntos en las coordenadas
usuarios_subred_sur = pd.read_csv(ruta_usuarios_subred_sur, sep=";", decimal=",")

# Convertir las coordenadas a tipo numérico
usuarios_subred_sur["X"] = usuarios_df["X"].astype(float)
usuarios_subred_sur["Y"] = usuarios_df["Y"].astype(float)

# Ver las primeras filas
print(usuarios_df.head())





# Convertir el DataFrame en un GeoDataFrame
usuarios_subred_sur_geo = gpd.GeoDataFrame(
    usuarios_subred_sur,
    geometry=gpd.points_from_xy(usuarios_subred_sur["X"], usuarios_subred_sur["Y"]),
    crs="EPSG:4326"  
)

# Mostrar las primeras filas con la nueva columna de geometría
print(usuarios_subred_sur_geo.head())






# Cargar la capa poligonal de las localidades de Bogotá
ruta_localidades = "C:/MAESTRIA_EN_GEOMATICA/Programacion_SIG/PROYECTO_FINAL_CODIGO/Analisis_Espacial/Localidades/Loca.shp"
localidades_bogota = gpd.read_file(ruta_localidades)

# Convertir a una proyección adecuada
localidades_bogota = localidades_bogota.to_crs(epsg=4326)  

# Crear la figura y los ejes
fig, ax = plt.subplots(figsize=(10, 8))

# Graficar localidades de Bogotá
localidades_bogota.plot(ax=ax, edgecolor='black', facecolor='lightgray', linewidth=1)

# Personalizar el gráfico
ax.set_title("Localidades de Bogotá", fontsize=14)
ax.set_xlabel("Longitud")
ax.set_ylabel("Latitud")
ax.grid(True, linestyle="--", alpha=0.5)  # Agregar cuadrícula para referencia

# Mostrar el mapa
plt.show()





# Realizar la unión espacial entre los puntos de los usuarios y las localidades de Bogotá
usuarios_localidades = gpd.sjoin(usuarios_subred_sur_geo, localidades_bogota, how="inner", predicate="within")

# Ver las primeras filas del resultado para comprobar la unión
print(usuarios_localidades.head())

# Crear la figura y los ejes para el gráfico
fig, ax = plt.subplots(figsize=(10, 8))

# Graficar localidades de Bogotá
localidades_bogota.plot(ax=ax, edgecolor='black', facecolor='lightgray', linewidth=1)

# Graficar los puntos de usuarios dentro de las localidades (usuarios_localidades)
usuarios_localidades.plot(ax=ax, color='red', markersize=5)

# Personalizar el gráfico
ax.set_title("Usuarios en las Localidades de Bogotá", fontsize=14)
ax.set_xlabel("Longitud")
ax.set_ylabel("Latitud")
ax.grid(True, linestyle="--", alpha=0.5)

# Mostrar el mapa
plt.show()





# Guardar en formato GeoPackage (más eficiente que Shapefile)
usuarios_localidades.to_file(r'C:\MAESTRIA_EN_GEOMATICA\Programacion_SIG\PROYECTO_FINAL_CODIGO\Analisis_Espacial\usuarios_localidades_union.gpkg', driver="GPKG")








# Eliminar espacios adicionales en los nombres de las localidades
usuarios_localidades["LocNombre"] = usuarios_localidades["LocNombre"].str.strip()

# Filtrar las localidades de interés (Tunjuelito, Sumapaz, Ciudad Bolívar, Usme)
localidades_interes = ['TUNJUELITO', 'SUMAPAZ', 'CIUDAD BOLIVAR', 'USME']
usuarios_interes = usuarios_localidades[usuarios_localidades["LocNombre"].isin(localidades_interes)]

# Contar cuántos usuarios están en las localidades de interés
usuarios_interes_count = usuarios_interes["LocNombre"].value_counts()

# Contar cuántos usuarios están en las demás localidades
usuarios_otros_count = usuarios_localidades[~usuarios_localidades["LocNombre"].isin(localidades_interes)]["LocNombre"].value_counts()

# Mostrar el total de usuarios en las localidades de interés y en las otras localidades
total_usuarios_interes = usuarios_interes_count.sum()
total_usuarios_otros = usuarios_otros_count.sum()

print(f"Total de usuarios en Tunjuelito, Sumapaz, Ciudad Bolívar y Usme: {total_usuarios_interes}")
print(f"Total de usuarios en otras localidades: {total_usuarios_otros}")

# Mostrar los usuarios en las localidades de interés
print("\nUsuarios por localidad en Tunjuelito, Sumapaz, Ciudad Bolívar y Usme:")
print(usuarios_interes_count.to_string())

# Mostrar los usuarios en las demás localidades
print("\nUsuarios por localidad en otras localidades:")
print(usuarios_otros_count.to_string())










# Verificar si hay valores nulos o vacíos en las columnas de coordenadas o si son 0
coordenadas_invalidas = usuarios_subred_sur[(usuarios_subred_sur['X'].isnull()) | 
                                             (usuarios_subred_sur['Y'].isnull()) | 
                                             (usuarios_subred_sur['X'] == 0) | 
                                             (usuarios_subred_sur['Y'] == 0)]

# Contar cuántos registros tienen coordenadas inválidas (vacíos, nulos o con valor 0)
cantidad_invalidas = coordenadas_invalidas.shape[0]

# Mostrar el resultado
if cantidad_invalidas > 0:
    print(f"Cantidad de registros con coordenadas inválidas (vacías, nulas o con valor 0): {cantidad_invalidas}")
else:
    print("No hay registros con coordenadas inválidas (vacías, nulas o con valor 0).")



from tabulate import tabulate

# Contar usuarios en la Subred Sur (Tunjuelito, Sumapaz, Ciudad Bolívar, Usme)
localidades_interes = ['TUNJUELITO', 'SUMAPAZ', 'CIUDAD BOLIVAR', 'USME']
usuarios_subred_sur_count = usuarios_localidades[usuarios_localidades['LocNombre'].isin(localidades_interes)].shape[0]

# Contar usuarios en otras localidades
usuarios_otros_count = usuarios_localidades[~usuarios_localidades['LocNombre'].isin(localidades_interes)].shape[0]

# Contar usuarios con coordenadas inválidas (vacías, nulas o con valor 0)
usuarios_invalidos_count = usuarios_subred_sur[(usuarios_subred_sur['X'].isnull()) | 
                                                (usuarios_subred_sur['Y'].isnull()) | 
                                                (usuarios_subred_sur['X'] == 0) | 
                                                (usuarios_subred_sur['Y'] == 0)].shape[0]

# Calcular el total general
total_general = usuarios_subred_sur_count + usuarios_otros_count + usuarios_invalidos_count

# Crear la tabla con los resultados
tabla_resumen = [
    ['Usuarios Subred Sur', usuarios_subred_sur_count],
    ['Usuarios en otras localidades', usuarios_otros_count],
    ['Usuarios sin dato (coordenadas inválidas)', usuarios_invalidos_count],
    ['Total General', total_general]
]

# Imprimir la tabla con rayas
print(tabulate(tabla_resumen, headers=['Categoría', 'Cantidad'], tablefmt='grid'))









# Cargar el archivo de los usuarios asignados a la Subred Sur
ruta_usuarios_subred_sur = r'C:\MAESTRIA_EN_GEOMATICA\Programacion_SIG\PROYECTO_FINAL_CODIGO\Analisis_Espacial\usuarios_asignados_subred_sur_enero_2025.csv'

# Cargar el archivo, especificando el separador y reemplazando comas por puntos en las coordenadas
usuarios_df = pd.read_csv(ruta_usuarios_subred_sur, sep=";", decimal=",")

# Convertir las coordenadas a tipo numérico
usuarios_df["X"] = usuarios_df["X"].astype(float)
usuarios_df["Y"] = usuarios_df["Y"].astype(float)

# Convertir el DataFrame en un GeoDataFrame
usuarios_subred_sur_geo = gpd.GeoDataFrame(
    usuarios_df,
    geometry=gpd.points_from_xy(usuarios_df["X"], usuarios_df["Y"]),
    crs="EPSG:4326"
)

# 2. Cargar la capa poligonal de las localidades de Bogotá
ruta_localidades = "C:/MAESTRIA_EN_GEOMATICA/Programacion_SIG/PROYECTO_FINAL_CODIGO/Analisis_Espacial/Localidades/Loca.shp"
localidades_bogota = gpd.read_file(ruta_localidades)

# Convertir a una proyección adecuada
localidades_bogota = localidades_bogota.to_crs(epsg=4326)

# Filtrar las localidades de interés (Tunjuelito, Sumapaz, Ciudad Bolívar, Usme)
localidades_interes = ['TUNJUELITO', 'SUMAPAZ', 'CIUDAD BOLIVAR', 'USME']
localidades_interes_geo = localidades_bogota[localidades_bogota["LocNombre"].isin(localidades_interes)]

# Realizar la intersección espacial (clip) entre los usuarios y las localidades de la Subred Sur
usuarios_interes_clip = gpd.sjoin(usuarios_subred_sur_geo, localidades_interes_geo, how="inner", predicate="within")

# Ver el resultado
print(usuarios_interes_clip.head())

# Guardar el resultado 
usuarios_interes_clip.to_file(r'C:\MAESTRIA_EN_GEOMATICA\Programacion_SIG\PROYECTO_FINAL_CODIGO\Analisis_Espacial\usuarios_interes_clip.gpkg', driver="GPKG")

#  Crear la visualización
fig, ax = plt.subplots(figsize=(10, 8))

# Graficar las localidades de la Subred Sur
localidades_interes_geo.plot(ax=ax, edgecolor='black', facecolor='lightgray', linewidth=1)

# Graficar los puntos de usuarios dentro de las localidades de la Subred Sur 
usuarios_interes_clip.plot(ax=ax, color='red', markersize=5)

# Personalizar el gráfico
ax.set_title("Usuarios en las Localidades de la Subred Sur de Bogotá", fontsize=14)
ax.set_xlabel("Longitud")
ax.set_ylabel("Latitud")
ax.grid(True, linestyle="--", alpha=0.5)

# Mostrar el mapa
plt.show()








# Ruta del archivo CSV
ruta_unidades_salud_Subredsur = r"C:\MAESTRIA_EN_GEOMATICA\Programacion_SIG\PROYECTO_FINAL_CODIGO\Analisis_Espacial\UNIDADES_SALUD.csv"

# Cargar el archivo y cambiar comas por puntos en los valores numéricos
unidades_salud_df = pd.read_csv(ruta_unidades_salud_Subredsur, sep=";", decimal=",")

# Convertir a GeoDataFrame
unidades_salud_df["geometry"] = unidades_salud_df.apply(lambda row: Point(row["X"], row["Y"]), axis=1)
unidades_salud_gdf = gpd.GeoDataFrame(unidades_salud_df, geometry="geometry", crs="EPSG:4326")  # CRS original

# Reproyectar a EPSG:3395 (Mercator)
unidades_salud_gdf = unidades_salud_gdf.to_crs(epsg=3395)

# Verificar las primeras filas
print(unidades_salud_gdf.head())

# Guardar en un archivo GeoPackage 
unidades_salud_gdf.to_file("unidades_salud_subredsur.gpkg", driver="GPKG")








 Cargar las localidades de Bogotá
ruta_localidades = "C:/MAESTRIA_EN_GEOMATICA/Programacion_SIG/PROYECTO_FINAL_CODIGO/Analisis_Espacial/Localidades/Loca.shp"
localidades_bogota = gpd.read_file(ruta_localidades)

# Filtrar solo las localidades de la Subred Sur
localidades_interes = ['TUNJUELITO', 'SUMAPAZ', 'CIUDAD BOLIVAR', 'USME']
localidades_subred_sur = localidades_bogota[localidades_bogota["LocNombre"].isin(localidades_interes)]

# Cargar las unidades de salud
ruta_unidades_salud = r"C:\MAESTRIA_EN_GEOMATICA\Programacion_SIG\PROYECTO_FINAL_CODIGO\Analisis_Espacial\UNIDADES_SALUD.csv"
unidades_salud_df = gpd.read_file(ruta_unidades_salud)

# Crear la figura y los ejes
fig, ax = plt.subplots(figsize=(10, 8))

# Graficar las localidades de la Subred Sur
localidades_subred_sur.plot(ax=ax, edgecolor='black', facecolor='lightgray', linewidth=1)

# Graficar las unidades de salud dentro de la Subred Sur
unidades_salud_df.plot(ax=ax, color='blue', markersize=50, marker="o", label="Unidades de Salud")

# Personalizar el gráfico
ax.set_title("Unión de Localidades y Unidades de Salud - Subred Sur", fontsize=14)
ax.set_xlabel("Longitud")
ax.set_ylabel("Latitud")
ax.legend()
ax.grid(True, linestyle="--", alpha=0.5)

# Mostrar el mapa
plt.show()



